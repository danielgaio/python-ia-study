{
 "cells": [
  {
   "cell_type": "markdown",
   "metadata": {},
   "source": [
    "# Course objective\n",
    "\n",
    "The objective of this course is to become a top expert in tensorflow and obtain the tensorflow certification.\n",
    "\n",
    "On this course we'll cover:\n",
    "* Tensorflow fundamentals\n",
    "* Numpy + Pandas\n",
    "* Neural network regression\n",
    "* Neural network classification\n",
    "* Convolutional neural networks\n",
    "* Transfer learning\n",
    "* Natural language processing\n",
    "* Time series\n",
    "* Tensorflow certification process"
   ]
  },
  {
   "cell_type": "code",
   "execution_count": null,
   "metadata": {},
   "outputs": [],
   "source": []
  }
 ],
 "metadata": {
  "language_info": {
   "name": "python"
  }
 },
 "nbformat": 4,
 "nbformat_minor": 2
}

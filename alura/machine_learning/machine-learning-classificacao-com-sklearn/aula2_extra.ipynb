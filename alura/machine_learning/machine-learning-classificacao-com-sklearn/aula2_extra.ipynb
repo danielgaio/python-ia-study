{
 "cells": [
  {
   "attachments": {},
   "cell_type": "markdown",
   "metadata": {},
   "source": [
    "# Sobre dicionários"
   ]
  },
  {
   "cell_type": "code",
   "execution_count": 1,
   "metadata": {},
   "outputs": [
    {
     "name": "stdout",
     "output_type": "stream",
     "text": [
      "{'Yan': '1234-5678', 'Pedro': '9999-9999', 'Ana': '8765-4321', 'Marina': '8877-7788'}\n"
     ]
    }
   ],
   "source": [
    "contatos_lista = [('Yan', '1234-5678'), ('Pedro', '9999-9999'),\n",
    "                    ('Ana', '8765-4321'), ('Marina', '8877-7788')]\n",
    "\n",
    "contatos = dict(contatos_lista)\n",
    "print(contatos)"
   ]
  },
  {
   "cell_type": "code",
   "execution_count": 2,
   "metadata": {},
   "outputs": [
    {
     "name": "stdout",
     "output_type": "stream",
     "text": [
      "8765-4321\n"
     ]
    }
   ],
   "source": [
    "print(contatos['Ana'])"
   ]
  },
  {
   "cell_type": "code",
   "execution_count": 3,
   "metadata": {},
   "outputs": [
    {
     "ename": "KeyError",
     "evalue": "'João'",
     "output_type": "error",
     "traceback": [
      "\u001b[0;31m---------------------------------------------------------------------------\u001b[0m",
      "\u001b[0;31mKeyError\u001b[0m                                  Traceback (most recent call last)",
      "Cell \u001b[0;32mIn[3], line 1\u001b[0m\n\u001b[0;32m----> 1\u001b[0m \u001b[39mprint\u001b[39m(contatos[\u001b[39m'\u001b[39;49m\u001b[39mJoão\u001b[39;49m\u001b[39m'\u001b[39;49m])\n",
      "\u001b[0;31mKeyError\u001b[0m: 'João'"
     ]
    }
   ],
   "source": [
    "print(contatos['João'])"
   ]
  },
  {
   "cell_type": "code",
   "execution_count": 4,
   "metadata": {},
   "outputs": [
    {
     "name": "stdout",
     "output_type": "stream",
     "text": [
      "1234-5678\n",
      "Contato não encontrado\n"
     ]
    }
   ],
   "source": [
    "# para evitar o key error pode-se usar o método get()\n",
    "print(contatos.get('Yan', 'Contato não encontrado'))\n",
    "print(contatos.get('João', 'Contato não encontrado'))"
   ]
  },
  {
   "cell_type": "code",
   "execution_count": 5,
   "metadata": {},
   "outputs": [
    {
     "name": "stdout",
     "output_type": "stream",
     "text": [
      "True\n"
     ]
    }
   ],
   "source": [
    "# checar se uma CHAVE está no dicionário\n",
    "print('Yan' in contatos)"
   ]
  },
  {
   "cell_type": "code",
   "execution_count": 6,
   "metadata": {},
   "outputs": [
    {
     "name": "stdout",
     "output_type": "stream",
     "text": [
      "True\n"
     ]
    }
   ],
   "source": [
    "# checar se um VALOR está no dict\n",
    "print('9999-9999' in contatos.values())"
   ]
  },
  {
   "cell_type": "code",
   "execution_count": 7,
   "metadata": {},
   "outputs": [
    {
     "name": "stdout",
     "output_type": "stream",
     "text": [
      "{'Yan': '1234-5678', 'Pedro': '9999-9999', 'Ana': '8765-4321', 'Marina': '8877-7788', 'João': '8887-7778'}\n"
     ]
    }
   ],
   "source": [
    "# para adicionar elementos basta atribuir o valor à nova chave\n",
    "contatos['João'] = '8887-7778'\n",
    "print(contatos)"
   ]
  },
  {
   "cell_type": "code",
   "execution_count": 8,
   "metadata": {},
   "outputs": [
    {
     "name": "stdout",
     "output_type": "stream",
     "text": [
      "{'Yan': '1234-5678', 'Pedro': '9999-9999', 'Ana': '8765-4321', 'João': '8887-7778'}\n"
     ]
    }
   ],
   "source": [
    "# remover um elemento do dict\n",
    "del contatos['Marina']\n",
    "print(contatos)"
   ]
  },
  {
   "cell_type": "code",
   "execution_count": 9,
   "metadata": {},
   "outputs": [
    {
     "ename": "KeyError",
     "evalue": "'Catarina'",
     "output_type": "error",
     "traceback": [
      "\u001b[0;31m---------------------------------------------------------------------------\u001b[0m",
      "\u001b[0;31mKeyError\u001b[0m                                  Traceback (most recent call last)",
      "Cell \u001b[0;32mIn[9], line 1\u001b[0m\n\u001b[0;32m----> 1\u001b[0m \u001b[39mdel\u001b[39;00m contatos[\u001b[39m'\u001b[39m\u001b[39mCatarina\u001b[39m\u001b[39m'\u001b[39m]\n",
      "\u001b[0;31mKeyError\u001b[0m: 'Catarina'"
     ]
    }
   ],
   "source": [
    "del contatos['Catarina']"
   ]
  },
  {
   "cell_type": "code",
   "execution_count": 10,
   "metadata": {},
   "outputs": [
    {
     "name": "stdout",
     "output_type": "stream",
     "text": [
      "8877-7788\n",
      "Contato não encontrado\n",
      "\n",
      "{'Yan': '1234-5678', 'Pedro': '9999-9999', 'Ana': '8765-4321', 'João': '8887-7778'}\n"
     ]
    }
   ],
   "source": [
    "# método pop() evita a exception keyError\n",
    "contatos = {'Yan': '1234-5678', 'Pedro': '9999-9999', 'Ana': '8765-4321',\n",
    "            'Marina': '8877-7788', 'João': '8887-7778'}\n",
    "\n",
    "print(contatos.pop('Marina', 'Contato não encontrado'))\n",
    "print(contatos.pop('Catarina', 'Contato não encontrado'))\n",
    "print()\n",
    "print(contatos)"
   ]
  },
  {
   "cell_type": "code",
   "execution_count": 11,
   "metadata": {},
   "outputs": [
    {
     "name": "stdout",
     "output_type": "stream",
     "text": [
      "{'Yan': '1234-5678', 'Pedro': '9999-9999', 'Ana': '8765-4321', 'João': '8887-7778', 'Fernando': '4345-5434', 'Luiza': '4567-7654'}\n"
     ]
    }
   ],
   "source": [
    "# para adicionar um dict B a um dict A, usamos o método update()\n",
    "\n",
    "contatos_do_pedro = {'Yan': '1234-5678', 'Fernando':'4345-5434',\n",
    "                        'Luiza':'4567-7654'}\n",
    "meus_contatos = {'Yan': '1234-5678', 'Pedro': '9999-9999',\n",
    "                    'Ana': '8765-4321', 'João': '8887-7778'}\n",
    "\n",
    "meus_contatos.update(contatos_do_pedro)\n",
    "print(meus_contatos)"
   ]
  },
  {
   "cell_type": "code",
   "execution_count": 12,
   "metadata": {},
   "outputs": [
    {
     "name": "stdout",
     "output_type": "stream",
     "text": [
      "{'Yan': '91234-5678', 'Pedro': '99999-9999', 'Ana': '98765-4321', 'João': '98887-7778', 'Fernando': '94345-5434', 'Luiza': '94567-7654'}\n"
     ]
    }
   ],
   "source": [
    "# dá pra usar compreensão de dicionários pra atualizar os valores de todos os registros de modo padrão\n",
    "meus_contatos_novo = {nome: '9' + meus_contatos[nome] for nome in meus_contatos}\n",
    "print(meus_contatos_novo)"
   ]
  },
  {
   "cell_type": "code",
   "execution_count": 13,
   "metadata": {},
   "outputs": [
    {
     "name": "stdout",
     "output_type": "stream",
     "text": [
      "dict_values(['91234-5678', '99999-9999', '98765-4321', '98887-7778', '94345-5434', '94567-7654'])\n"
     ]
    }
   ],
   "source": [
    "# o values() vai retornar uma view de dict, esse objeto de view sempre está atualizado, é tipo um portal, não os dados em si\n",
    "valores = meus_contatos_novo.values()\n",
    "print(valores)"
   ]
  },
  {
   "cell_type": "code",
   "execution_count": 14,
   "metadata": {},
   "outputs": [
    {
     "name": "stdout",
     "output_type": "stream",
     "text": [
      "dict_values(['91234-5678', '99999-9999', '98765-4321', '98887-7778', '94345-5434', '94567-7654'])\n",
      "dict_values(['91122-3344', '99999-9999', '98765-4321', '98887-7778', '94345-5434', '94567-7654'])\n"
     ]
    }
   ],
   "source": [
    "valores = meus_contatos_novo.values()\n",
    "print(valores)\n",
    "\n",
    "meus_contatos_novo['Yan'] = '91122-3344'\n",
    "# mesmo sem atribuir de novo, o valor vai estar atualizado\n",
    "print(valores)"
   ]
  },
  {
   "cell_type": "code",
   "execution_count": 15,
   "metadata": {},
   "outputs": [
    {
     "name": "stdout",
     "output_type": "stream",
     "text": [
      "24\n"
     ]
    }
   ],
   "source": [
    "# views economizam memória pois tem tamanho fixo \n",
    "print(valores.__sizeof__())"
   ]
  },
  {
   "attachments": {},
   "cell_type": "markdown",
   "metadata": {},
   "source": [
    "# Sobre tuplas"
   ]
  },
  {
   "cell_type": "code",
   "execution_count": 16,
   "metadata": {},
   "outputs": [],
   "source": [
    "# guardar valores que são um par\n",
    "latitude = -23.588254\n",
    "longitude = -46.632477"
   ]
  },
  {
   "cell_type": "code",
   "execution_count": 17,
   "metadata": {},
   "outputs": [],
   "source": [
    "latitude = -23.588254\n",
    "longitude = -46.632477\n",
    "\n",
    "outra_latitude = 48.8583698\n",
    "outra_longitude = 2.2944833"
   ]
  },
  {
   "cell_type": "code",
   "execution_count": 18,
   "metadata": {},
   "outputs": [],
   "source": [
    "# com listas dá pra juntar em uma váriável\n",
    "caelum_coordenadas = [-23.588254, -46.632477]\n",
    "torre_eiffel_coordenadas = [48.8583698, 2.2944833]"
   ]
  },
  {
   "cell_type": "code",
   "execution_count": 21,
   "metadata": {},
   "outputs": [
    {
     "name": "stdout",
     "output_type": "stream",
     "text": [
      "[-23.588254, -5.0]\n"
     ]
    }
   ],
   "source": [
    "# listas são mutáveis, o que nesse caso não é bom\n",
    "caelum_coordenadas = [-23.588254, -46.632477]\n",
    "caelum_coordenadas[1] = -5.0\n",
    "print(caelum_coordenadas)"
   ]
  },
  {
   "cell_type": "code",
   "execution_count": 22,
   "metadata": {},
   "outputs": [
    {
     "name": "stdout",
     "output_type": "stream",
     "text": [
      "<class 'tuple'>\n"
     ]
    }
   ],
   "source": [
    "# listas são para valores homogêneos, as coordenadas são valores heterogeneos\n",
    "caelum_coordenadas = (-23.588254, -46.632477)\n",
    "print(type(caelum_coordenadas))"
   ]
  },
  {
   "cell_type": "code",
   "execution_count": 35,
   "metadata": {},
   "outputs": [
    {
     "name": "stdout",
     "output_type": "stream",
     "text": [
      "140601230597936\n",
      "(-23.588254, -46.632477, -5, -5, -5, -5, -5, -5, -5, -5, -5, -5, -5)\n",
      "140601194934864\n"
     ]
    }
   ],
   "source": [
    "# tuplas são imutáveis\n",
    "print(id(caelum_coordenadas))\n",
    "# adiciona elemento na tupla, pra valor único precisa de virgula depois do valor\n",
    "caelum_coordenadas += (-5,)\n",
    "print(caelum_coordenadas)\n",
    "print(id(caelum_coordenadas))"
   ]
  },
  {
   "attachments": {},
   "cell_type": "markdown",
   "metadata": {},
   "source": [
    "tuplas podem conter objetos mutáveis, como listas\n",
    "\n",
    "assim podemos alterar os valores da lista dentro da tupla, mas a tupla continua imutável\n",
    "\n",
    "superficialmente, tuplas se comportam como listas estáticas\n",
    "\n",
    "tuplas geralmente contêm uma sequência heterogênea de elementos, ou seja, elementos de diversos tipos e significados.\n",
    "\n",
    "listas geralmente trabalham com ordem, enquanto tuplas geralmente trabalham com estrutura"
   ]
  },
  {
   "cell_type": "code",
   "execution_count": 37,
   "metadata": {},
   "outputs": [
    {
     "name": "stdout",
     "output_type": "stream",
     "text": [
      "24\n",
      "40\n"
     ]
    }
   ],
   "source": [
    "# tuplas ocupam menos espaço em memória do que listas\n",
    "print(().__sizeof__())\n",
    "print([].__sizeof__())"
   ]
  },
  {
   "cell_type": "code",
   "execution_count": 43,
   "metadata": {},
   "outputs": [
    {
     "name": "stdout",
     "output_type": "stream",
     "text": [
      "Coordenadas(latitude=-23.588254, longitude=-46.632477)\n",
      "-23.588254\n",
      "-23.588254\n",
      "-46.632477\n",
      "-46.632477\n"
     ]
    }
   ],
   "source": [
    "# nomeando os elementos de uma tupla\n",
    "from collections import namedtuple\n",
    "\n",
    "Coordenadas = namedtuple('Coordenadas', ['latitude', 'longitude'])\n",
    "caelum_coordenadas = Coordenadas(-23.588254, longitude=-46.632477)\n",
    "print(caelum_coordenadas)\n",
    "# maneiras de acesso aos elementos\n",
    "print(caelum_coordenadas[0])\n",
    "print(caelum_coordenadas.latitude)\n",
    "print(caelum_coordenadas[1])\n",
    "print(caelum_coordenadas.longitude)"
   ]
  }
 ],
 "metadata": {
  "kernelspec": {
   "display_name": "env",
   "language": "python",
   "name": "python3"
  },
  "language_info": {
   "codemirror_mode": {
    "name": "ipython",
    "version": 3
   },
   "file_extension": ".py",
   "mimetype": "text/x-python",
   "name": "python",
   "nbconvert_exporter": "python",
   "pygments_lexer": "ipython3",
   "version": "3.10.6"
  },
  "orig_nbformat": 4,
  "vscode": {
   "interpreter": {
    "hash": "d24549f83c6cca0b2e573134cf4e4fbb9117fbfaaf920eeddcb841738b4b6468"
   }
  }
 },
 "nbformat": 4,
 "nbformat_minor": 2
}
